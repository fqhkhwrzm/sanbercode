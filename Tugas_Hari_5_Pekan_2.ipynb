{
  "nbformat": 4,
  "nbformat_minor": 0,
  "metadata": {
    "kernelspec": {
      "display_name": "Python 3",
      "language": "python",
      "name": "python3"
    },
    "language_info": {
      "codemirror_mode": {
        "name": "ipython",
        "version": 3
      },
      "file_extension": ".py",
      "mimetype": "text/x-python",
      "name": "python",
      "nbconvert_exporter": "python",
      "pygments_lexer": "ipython3",
      "version": "3.7.7"
    },
    "colab": {
      "name": "Tugas Hari 5 Pekan 2.ipynb",
      "provenance": [],
      "collapsed_sections": [],
      "include_colab_link": true
    }
  },
  "cells": [
    {
      "cell_type": "markdown",
      "metadata": {
        "id": "view-in-github",
        "colab_type": "text"
      },
      "source": [
        "<a href=\"https://colab.research.google.com/github/fqhkhwrzm/sanbercode_week1/blob/main/Tugas_Hari_5_Pekan_2.ipynb\" target=\"_parent\"><img src=\"https://colab.research.google.com/assets/colab-badge.svg\" alt=\"Open In Colab\"/></a>"
      ]
    },
    {
      "cell_type": "markdown",
      "metadata": {
        "id": "Kn2L7gz1Cjak"
      },
      "source": [
        "<h2>Soal 1: Penggabungan Data</h2>\n",
        "\n",
        "- Sebutkan perbedaan antara full outer join, inner join, dan left join\n",
        "  + full outer join : Full Outer Join menghasilkan gabungan index bari dari setiap data yang di gabung.\n",
        "Full Outer Join menggabungan pula column yang berbeda\n",
        "  + inner join : Inner join ini akan menggabungkan data antara nilai key/referensi yang beririsan.\n",
        "  + left join : left Outer Join menghasilkan seluruh data dari data yang kiri ditambah data kanan yang memiliki nilai key yang sama dengan data dari kiri."
      ]
    },
    {
      "cell_type": "markdown",
      "metadata": {
        "id": "lz5KBMyXCjau"
      },
      "source": [
        "Jawab:\n"
      ]
    },
    {
      "cell_type": "markdown",
      "metadata": {
        "id": "H8k-jVewCjax"
      },
      "source": [
        "<h2>Soal 2: Penggabungan Data</h2>\n",
        "\n",
        "Pada quiz no 2 ini gunakan data [names1881.csv](https://drive.google.com/uc?export=download&id=1Pwu3cv93hI79jmi52kJ05xhophknDKat) dan [names1981.csv](https://drive.google.com/uc?export=download&id=1pvsGaybr423hJXcN35e5nS3sg4ha4jo3), data ini berisi nama bayi yang lahir pada tahun 1881 atau 1981 di Amerika.\n",
        "\n",
        "- Baca data tersebut dengan memberikan nama column 'Name', 'Gender', 'Count'.\n",
        "- Tunjukan jumlah dimensi dari data 'names1881.csv' dan 'names1981.csv'\n",
        "- Gabungkan kedua data tersebut berdasarkan sumbu baris\n",
        "- Tunjukan jumlah dimensi dari data setelah di gabungkan."
      ]
    },
    {
      "cell_type": "code",
      "metadata": {
        "id": "nThN7zO2Cjaz",
        "colab": {
          "base_uri": "https://localhost:8080/"
        },
        "outputId": "8dd7a2d9-8939-4955-fe64-ac555e0f46ac"
      },
      "source": [
        "import pandas as pd\n",
        "# read data\n",
        "df1 = pd.read_csv('names1881.csv', names=('Name', 'Gender', 'Count'))\n",
        "df2 = pd.read_csv('names1981.csv', names=('Name', 'Gender', 'Count'))\n",
        "\n",
        "# periksa dimensi dari kedua data\n",
        "print(\"Jumlah Dimensi data 'names1881.csv' :\")\n",
        "print(df1.shape)\n",
        "print(\"Jumlah Baris data 'names1981.csv' :\")\n",
        "print(df2.shape)\n",
        "\n",
        "# gabungkan data\n",
        "df = pd.merge(df1, df2)\n",
        "print(df)\n",
        "\n",
        "# periksa dimensi data hasil gabungan\n",
        "print(\"Jumlah dimensi data setelah penggabungan : \")\n",
        "print(df.shape)"
      ],
      "execution_count": null,
      "outputs": [
        {
          "output_type": "stream",
          "text": [
            "Jumlah Dimensi data 'names1881.csv' :\n",
            "(1935, 3)\n",
            "Jumlah Baris data 'names1981.csv' :\n",
            "(19455, 3)\n",
            "          Name Gender  Count\n",
            "0       Alvina      F     29\n",
            "1      Leonora      F     23\n",
            "2       Lessie      F     18\n",
            "3          Ray      F     11\n",
            "4        Sibyl      F      9\n",
            "5        Dessa      F      7\n",
            "6         Dove      F      7\n",
            "7       Tempie      F      7\n",
            "8    Albertine      F      6\n",
            "9   Clementine      F      6\n",
            "10     Emeline      F      6\n",
            "11         Leo      F      6\n",
            "12   Theodosia      F      6\n",
            "13      Lannie      F      5\n",
            "14      Levina      F      5\n",
            "15        Loma      F      5\n",
            "16      Mabell      F      5\n",
            "17      Orlena      F      5\n",
            "18      Ressie      F      5\n",
            "19        Tiny      F      5\n",
            "20         Art      M     17\n",
            "21     Hampton      M     11\n",
            "22        June      M     10\n",
            "23     Sanders      M      8\n",
            "24       Elder      M      7\n",
            "25       Evert      M      7\n",
            "26       Worth      M      7\n",
            "27       Alvah      M      6\n",
            "28      Vernie      M      6\n",
            "29       Manly      M      5\n",
            "30      Mannie      M      5\n",
            "31       Urban      M      5\n",
            "Jumlah dimensi data setelah penggabungan : \n",
            "(32, 3)\n"
          ],
          "name": "stdout"
        }
      ]
    },
    {
      "cell_type": "markdown",
      "metadata": {
        "id": "vxp88Xe5CjbF"
      },
      "source": [
        "Expected Result: \n",
        "\n",
        "Jumlah Dimensi data 'names1881.csv': \n",
        "\n",
        "(1935, 3)\n",
        "\n",
        "Jumlah Baris data 'names1981.csv':\n",
        "\n",
        "(19455, 3)\n",
        "\n",
        "![alt text](https://drive.google.com/uc?id=1jMCAdLrcJubjufydZBnzdQkYqDS3Klat)\n",
        "\n",
        "Jumlah dimensi data setelah penggabungan : \n",
        "\n",
        "(21390, 3)"
      ]
    },
    {
      "cell_type": "markdown",
      "metadata": {
        "id": "yALBDvlQCjbJ"
      },
      "source": [
        "<h2>Soal 3: Penggabungan Data</h2>\n",
        "\n",
        "Lakukan jenis penggabungan data full outer join, inner join, left outer join dan right outer join pada kedua data berikut: "
      ]
    },
    {
      "cell_type": "code",
      "metadata": {
        "id": "GQtYaV1gCjbM",
        "colab": {
          "base_uri": "https://localhost:8080/"
        },
        "outputId": "db654951-3a49-4f01-bf62-22a34d04ef9e"
      },
      "source": [
        "import pandas as pd\n",
        "\n",
        "data1 = {\n",
        "    'id' : [1, 2, 3, 4],\n",
        "    'Feature1' : ['a1', 'a2', 'a3', 'a4'],\n",
        "    'Feature2' : ['b1', 'b2', 'b3', 'b4']\n",
        "}\n",
        "\n",
        "data2 = {\n",
        "    'id' : [3, 4, 5 ,6, 7],\n",
        "    'Feature3' : ['c1', 'c2', 'c3', 'c4', 'c5']\n",
        "}\n",
        "\n",
        "df1= pd.DataFrame(data1)\n",
        "df2= pd.DataFrame(data2)\n",
        "\n",
        "print(df1)\n",
        "print(df2)"
      ],
      "execution_count": null,
      "outputs": [
        {
          "output_type": "stream",
          "text": [
            "   id Feature1 Feature2\n",
            "0   1       a1       b1\n",
            "1   2       a2       b2\n",
            "2   3       a3       b3\n",
            "3   4       a4       b4\n",
            "   id Feature3\n",
            "0   3       c1\n",
            "1   4       c2\n",
            "2   5       c3\n",
            "3   6       c4\n",
            "4   7       c5\n"
          ],
          "name": "stdout"
        }
      ]
    },
    {
      "cell_type": "code",
      "metadata": {
        "id": "sMuRgJYhCjbg",
        "colab": {
          "base_uri": "https://localhost:8080/"
        },
        "outputId": "a69ad840-668b-41fa-d2e7-d84df18125ed"
      },
      "source": [
        "# join data\n",
        "df_outer_join = pd.merge(df1, df2, on='id', how='outer')\n",
        "print(df_outer_join)\n",
        "\n",
        "df_inner_join = pd.merge(df1, df2, on='id', how='inner')\n",
        "print(df_inner_join)\n",
        "\n",
        "df_left_join = pd.merge(df1, df2, on='id', how='left')\n",
        "print(df_left_join)\n",
        "\n",
        "df_right_join = pd.merge(df1, df2, on='id', how='right')\n",
        "print(df_right_join)"
      ],
      "execution_count": null,
      "outputs": [
        {
          "output_type": "stream",
          "text": [
            "   id Feature1 Feature2 Feature3\n",
            "0   1       a1       b1      NaN\n",
            "1   2       a2       b2      NaN\n",
            "2   3       a3       b3       c1\n",
            "3   4       a4       b4       c2\n",
            "4   5      NaN      NaN       c3\n",
            "5   6      NaN      NaN       c4\n",
            "6   7      NaN      NaN       c5\n",
            "   id Feature1 Feature2 Feature3\n",
            "0   3       a3       b3       c1\n",
            "1   4       a4       b4       c2\n",
            "   id Feature1 Feature2 Feature3\n",
            "0   1       a1       b1      NaN\n",
            "1   2       a2       b2      NaN\n",
            "2   3       a3       b3       c1\n",
            "3   4       a4       b4       c2\n",
            "   id Feature1 Feature2 Feature3\n",
            "0   3       a3       b3       c1\n",
            "1   4       a4       b4       c2\n",
            "2   5      NaN      NaN       c3\n",
            "3   6      NaN      NaN       c4\n",
            "4   7      NaN      NaN       c5\n"
          ],
          "name": "stdout"
        }
      ]
    },
    {
      "cell_type": "markdown",
      "metadata": {
        "id": "p2YbxGt8Cjb1"
      },
      "source": [
        "Expected Result:\n",
        "\n",
        "![alt text](https://drive.google.com/uc?id=1kUpkzWh3Y-X_1H1QXHiccdHf4YjqXsDu)\n",
        "\n",
        "![alt text](https://drive.google.com/uc?id=1ojoAC2oX9P3ZHl0lS3RXipd7gShLOmmC)\n",
        "\n",
        "![alt text](https://drive.google.com/uc?id=12jDnQzIosn6dizVwl2nPMX1IhhyEZ4FA)\n",
        "\n",
        "![alt text](https://drive.google.com/uc?id=11znqscNsVZ-cHY-PPgoHEBDWyc6XRtAL)"
      ]
    },
    {
      "cell_type": "markdown",
      "metadata": {
        "id": "2hfhFcsACjb4"
      },
      "source": [
        "<h2>Soal 4: Penggabungan Data berbeda label column Key</h2>\n",
        "\n",
        "Lakukan jenis penggabungan inner join untuk 2 data yang memiliki nama column key yang berbeda ini:"
      ]
    },
    {
      "cell_type": "code",
      "metadata": {
        "id": "9eE1RWfKCjb9",
        "colab": {
          "base_uri": "https://localhost:8080/"
        },
        "outputId": "058fcc07-b6e9-4eda-d3c2-ca5fae5b1bf7"
      },
      "source": [
        "data1 = {\n",
        "    'key_data1' : [1, 2, 3, 4],\n",
        "    'Feature1' : ['a1', 'a2', 'a3', 'a4'],\n",
        "    'Feature2' : ['b1', 'b2', 'b3', 'b4']\n",
        "}\n",
        "\n",
        "data2 = {\n",
        "    'key_data2' : [3, 4, 5 ,6, 7],\n",
        "    'Feature3' : ['c1', 'c2', 'c3', 'c4', 'c5']\n",
        "}\n",
        "\n",
        "df1= pd.DataFrame(data1)\n",
        "df2= pd.DataFrame(data2)\n",
        "\n",
        "print(df1)\n",
        "print(df2)"
      ],
      "execution_count": null,
      "outputs": [
        {
          "output_type": "stream",
          "text": [
            "   key_data1 Feature1 Feature2\n",
            "0          1       a1       b1\n",
            "1          2       a2       b2\n",
            "2          3       a3       b3\n",
            "3          4       a4       b4\n",
            "   key_data2 Feature3\n",
            "0          3       c1\n",
            "1          4       c2\n",
            "2          5       c3\n",
            "3          6       c4\n",
            "4          7       c5\n"
          ],
          "name": "stdout"
        }
      ]
    },
    {
      "cell_type": "code",
      "metadata": {
        "id": "OiD9K234CjcV",
        "colab": {
          "base_uri": "https://localhost:8080/",
          "height": 197
        },
        "outputId": "7d70fd4a-a341-48f8-b19f-2a914bb606ca"
      },
      "source": [
        "# gabung dua data tersebut\n",
        "df_gabung = [df1, df2]\n",
        "\n",
        "pd.concat(df_gabung, axis=1,)"
      ],
      "execution_count": null,
      "outputs": [
        {
          "output_type": "error",
          "ename": "TypeError",
          "evalue": "ignored",
          "traceback": [
            "\u001b[0;31m---------------------------------------------------------------------------\u001b[0m",
            "\u001b[0;31mTypeError\u001b[0m                                 Traceback (most recent call last)",
            "\u001b[0;32m<ipython-input-34-2a9af7e59074>\u001b[0m in \u001b[0;36m<module>\u001b[0;34m()\u001b[0m\n\u001b[1;32m      2\u001b[0m \u001b[0mdf_gabung\u001b[0m \u001b[0;34m=\u001b[0m \u001b[0;34m[\u001b[0m\u001b[0mdf1\u001b[0m\u001b[0;34m,\u001b[0m \u001b[0mdf2\u001b[0m\u001b[0;34m]\u001b[0m\u001b[0;34m\u001b[0m\u001b[0;34m\u001b[0m\u001b[0m\n\u001b[1;32m      3\u001b[0m \u001b[0;34m\u001b[0m\u001b[0m\n\u001b[0;32m----> 4\u001b[0;31m \u001b[0mpd\u001b[0m\u001b[0;34m.\u001b[0m\u001b[0mconcat\u001b[0m\u001b[0;34m(\u001b[0m\u001b[0mdf_gabung\u001b[0m\u001b[0;34m[\u001b[0m\u001b[0;34m[\u001b[0m\u001b[0;36m2\u001b[0m\u001b[0;34m]\u001b[0m\u001b[0;34m,\u001b[0m\u001b[0;34m[\u001b[0m\u001b[0;36m4\u001b[0m\u001b[0;34m]\u001b[0m\u001b[0;34m]\u001b[0m\u001b[0;34m,\u001b[0m \u001b[0maxis\u001b[0m\u001b[0;34m=\u001b[0m\u001b[0;36m1\u001b[0m\u001b[0;34m,\u001b[0m\u001b[0;34m)\u001b[0m\u001b[0;34m\u001b[0m\u001b[0;34m\u001b[0m\u001b[0m\n\u001b[0m",
            "\u001b[0;31mTypeError\u001b[0m: list indices must be integers or slices, not tuple"
          ]
        }
      ]
    },
    {
      "cell_type": "markdown",
      "metadata": {
        "id": "KP38kgIBCjco"
      },
      "source": [
        "Expected Result:\n",
        "\n",
        "![alt text](https://drive.google.com/uc?id=1uBiVOPnqns4al88FDc0ENIeTzIxP4wxH)"
      ]
    }
  ]
}