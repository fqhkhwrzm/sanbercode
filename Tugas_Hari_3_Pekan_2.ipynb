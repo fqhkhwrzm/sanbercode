{
  "nbformat": 4,
  "nbformat_minor": 0,
  "metadata": {
    "kernelspec": {
      "display_name": "Python 3",
      "language": "python",
      "name": "python3"
    },
    "language_info": {
      "codemirror_mode": {
        "name": "ipython",
        "version": 3
      },
      "file_extension": ".py",
      "mimetype": "text/x-python",
      "name": "python",
      "nbconvert_exporter": "python",
      "pygments_lexer": "ipython3",
      "version": "3.7.7"
    },
    "colab": {
      "name": "Tugas Hari 3 Pekan 2.ipynb",
      "provenance": [],
      "collapsed_sections": [],
      "include_colab_link": true
    }
  },
  "cells": [
    {
      "cell_type": "markdown",
      "metadata": {
        "id": "view-in-github",
        "colab_type": "text"
      },
      "source": [
        "<a href=\"https://colab.research.google.com/github/fqhkhwrzm/sanbercode_week1/blob/main/Tugas_Hari_3_Pekan_2.ipynb\" target=\"_parent\"><img src=\"https://colab.research.google.com/assets/colab-badge.svg\" alt=\"Open In Colab\"/></a>"
      ]
    },
    {
      "cell_type": "markdown",
      "metadata": {
        "id": "0kQhZ-5bKrxR"
      },
      "source": [
        "<h2>Soal 1: Pivoting and Melting</h2>\n",
        "\n",
        "Jelaskan itu pivoting dan melting data\n",
        "- Pivoting = adalah suatu pengubahan bentuk data dengan memutar data yang terletak di baris menjadi di column.\n",
        "- Melting = dalah ‘unpivoting’, melting mengubah suatu data dengan memutar dari yang tadinya berada di posisi column menjadi di posisi row.Melting mengubah data yang tadinya lebar menjadi panjang."
      ]
    },
    {
      "cell_type": "markdown",
      "metadata": {
        "id": "O7OpqeB9KrxX"
      },
      "source": [
        "jawaban:\n"
      ]
    },
    {
      "cell_type": "markdown",
      "metadata": {
        "id": "jImnOOlTKrxa"
      },
      "source": [
        "<h2>Soal 2: Data structure Comprehension</h2>\n",
        "\n",
        "Data yang rapi adalah:\n",
        "1. Setiap row menunjukan suatu unit observasi\n",
        "2. Setiap column merupakan suatu unit variable\n",
        "\n",
        "Bagaimana pun, dalam menentukan unit observasi itu tergantung dari kasus yang di hadapi. sebagai seorang data scientist pasti akan menemukan berbagai bentuk struktur data. adalah sangat penting bagi seorang data scientist untuk dapat memahami dan menjelaskan setiap struktur data. Kemampuan memahami hubungan antara index baris, column dan isi data adalah kunci untuk memahami informasi apa yang data sedang beritahukan kepada kita.\n",
        "\n",
        "Di bawah ini terdapat 2 data yang berisi sama, tetapi memiliki struktur yang berbeda. Jelaskan perbedaan dari 2 struktur data tersebut"
      ]
    },
    {
      "cell_type": "markdown",
      "metadata": {
        "id": "HYtZqGxLKrxc"
      },
      "source": [
        "![alt text](https://drive.google.com/uc?id=1h13CDPzIjc-2XyRcyu-p1fet0Ep1gdMA)"
      ]
    },
    {
      "cell_type": "markdown",
      "metadata": {
        "id": "nn4EuLbnKrxf"
      },
      "source": [
        "![alt text](https://drive.google.com/uc?id=12ji98ell5tNcCxeBzl4v8qqBtFMgDSr0)"
      ]
    },
    {
      "cell_type": "markdown",
      "metadata": {
        "id": "_fixNOUAKrxh"
      },
      "source": [
        ""
      ]
    },
    {
      "cell_type": "code",
      "metadata": {
        "id": "NmEipDhgv6zF"
      },
      "source": [
        "perbedaan dari 2 data diatas adalah, yang atas adalah pivoting data dan yang bawah adalah melting data"
      ],
      "execution_count": null,
      "outputs": []
    },
    {
      "cell_type": "markdown",
      "metadata": {
        "id": "Vxig2IeYKrxj"
      },
      "source": [
        "<h2>Soal 3: Reshaping Data 1</h2>"
      ]
    },
    {
      "cell_type": "code",
      "metadata": {
        "id": "4Jp7bLWNKrxl",
        "colab": {
          "base_uri": "https://localhost:8080/",
          "height": 421
        },
        "outputId": "06cda9aa-455e-4cd4-bcaa-5a69c2f87639"
      },
      "source": [
        "import pandas as pd\n",
        "import random\n",
        "\n",
        "data = {\n",
        "    'Tipe Ujian' : ['UTS1', 'UAS1', 'UTS2', 'UAS2']*3,\n",
        "    'Mata Pelajaran' : ['Fisika']*4 + ['Matematika']*4+['Statistika']*4,\n",
        "    'Rata2 Waktu Belajar (menit)' : [random.choice(range(200, 800)) for i in range(12)],\n",
        "    'Rata2 Nilai Ujian' : [random.choice(range(40, 100)) for i in range(12)] \n",
        "}\n",
        "df = pd.DataFrame(data)\n",
        "df"
      ],
      "execution_count": null,
      "outputs": [
        {
          "output_type": "execute_result",
          "data": {
            "text/html": [
              "<div>\n",
              "<style scoped>\n",
              "    .dataframe tbody tr th:only-of-type {\n",
              "        vertical-align: middle;\n",
              "    }\n",
              "\n",
              "    .dataframe tbody tr th {\n",
              "        vertical-align: top;\n",
              "    }\n",
              "\n",
              "    .dataframe thead th {\n",
              "        text-align: right;\n",
              "    }\n",
              "</style>\n",
              "<table border=\"1\" class=\"dataframe\">\n",
              "  <thead>\n",
              "    <tr style=\"text-align: right;\">\n",
              "      <th></th>\n",
              "      <th>Tipe Ujian</th>\n",
              "      <th>Mata Pelajaran</th>\n",
              "      <th>Rata2 Waktu Belajar (menit)</th>\n",
              "      <th>Rata2 Nilai Ujian</th>\n",
              "    </tr>\n",
              "  </thead>\n",
              "  <tbody>\n",
              "    <tr>\n",
              "      <th>0</th>\n",
              "      <td>UTS1</td>\n",
              "      <td>Fisika</td>\n",
              "      <td>558</td>\n",
              "      <td>87</td>\n",
              "    </tr>\n",
              "    <tr>\n",
              "      <th>1</th>\n",
              "      <td>UAS1</td>\n",
              "      <td>Fisika</td>\n",
              "      <td>271</td>\n",
              "      <td>81</td>\n",
              "    </tr>\n",
              "    <tr>\n",
              "      <th>2</th>\n",
              "      <td>UTS2</td>\n",
              "      <td>Fisika</td>\n",
              "      <td>323</td>\n",
              "      <td>85</td>\n",
              "    </tr>\n",
              "    <tr>\n",
              "      <th>3</th>\n",
              "      <td>UAS2</td>\n",
              "      <td>Fisika</td>\n",
              "      <td>296</td>\n",
              "      <td>86</td>\n",
              "    </tr>\n",
              "    <tr>\n",
              "      <th>4</th>\n",
              "      <td>UTS1</td>\n",
              "      <td>Matematika</td>\n",
              "      <td>522</td>\n",
              "      <td>80</td>\n",
              "    </tr>\n",
              "    <tr>\n",
              "      <th>5</th>\n",
              "      <td>UAS1</td>\n",
              "      <td>Matematika</td>\n",
              "      <td>338</td>\n",
              "      <td>79</td>\n",
              "    </tr>\n",
              "    <tr>\n",
              "      <th>6</th>\n",
              "      <td>UTS2</td>\n",
              "      <td>Matematika</td>\n",
              "      <td>469</td>\n",
              "      <td>66</td>\n",
              "    </tr>\n",
              "    <tr>\n",
              "      <th>7</th>\n",
              "      <td>UAS2</td>\n",
              "      <td>Matematika</td>\n",
              "      <td>769</td>\n",
              "      <td>69</td>\n",
              "    </tr>\n",
              "    <tr>\n",
              "      <th>8</th>\n",
              "      <td>UTS1</td>\n",
              "      <td>Statistika</td>\n",
              "      <td>281</td>\n",
              "      <td>70</td>\n",
              "    </tr>\n",
              "    <tr>\n",
              "      <th>9</th>\n",
              "      <td>UAS1</td>\n",
              "      <td>Statistika</td>\n",
              "      <td>665</td>\n",
              "      <td>79</td>\n",
              "    </tr>\n",
              "    <tr>\n",
              "      <th>10</th>\n",
              "      <td>UTS2</td>\n",
              "      <td>Statistika</td>\n",
              "      <td>758</td>\n",
              "      <td>59</td>\n",
              "    </tr>\n",
              "    <tr>\n",
              "      <th>11</th>\n",
              "      <td>UAS2</td>\n",
              "      <td>Statistika</td>\n",
              "      <td>647</td>\n",
              "      <td>95</td>\n",
              "    </tr>\n",
              "  </tbody>\n",
              "</table>\n",
              "</div>"
            ],
            "text/plain": [
              "   Tipe Ujian Mata Pelajaran  Rata2 Waktu Belajar (menit)  Rata2 Nilai Ujian\n",
              "0        UTS1         Fisika                          558                 87\n",
              "1        UAS1         Fisika                          271                 81\n",
              "2        UTS2         Fisika                          323                 85\n",
              "3        UAS2         Fisika                          296                 86\n",
              "4        UTS1     Matematika                          522                 80\n",
              "5        UAS1     Matematika                          338                 79\n",
              "6        UTS2     Matematika                          469                 66\n",
              "7        UAS2     Matematika                          769                 69\n",
              "8        UTS1     Statistika                          281                 70\n",
              "9        UAS1     Statistika                          665                 79\n",
              "10       UTS2     Statistika                          758                 59\n",
              "11       UAS2     Statistika                          647                 95"
            ]
          },
          "metadata": {
            "tags": []
          },
          "execution_count": 63
        }
      ]
    },
    {
      "cell_type": "markdown",
      "metadata": {
        "id": "G3yKJFwTKrx8"
      },
      "source": [
        "Perhatikan data di atas, kemudian ubahlah bentuknya agar sesuai yang di harapkan."
      ]
    },
    {
      "cell_type": "code",
      "metadata": {
        "id": "ztFDyKDYKrx-",
        "colab": {
          "base_uri": "https://localhost:8080/"
        },
        "outputId": "d9e72e4b-ee21-4564-a53d-e7504447de04"
      },
      "source": [
        "# code here\n",
        "pivot_table_df= pd.pivot_table(df, index='Tipe Ujian', columns='Mata Pelajaran', values='Rata2 Nilai Ujian', aggfunc='sum')\n",
        "print(pivot_table_df)"
      ],
      "execution_count": null,
      "outputs": [
        {
          "output_type": "stream",
          "text": [
            "Mata Pelajaran  Fisika  Matematika  Statistika\n",
            "Tipe Ujian                                    \n",
            "UAS1                81          79          79\n",
            "UAS2                86          69          95\n",
            "UTS1                87          80          70\n",
            "UTS2                85          66          59\n"
          ],
          "name": "stdout"
        }
      ]
    },
    {
      "cell_type": "markdown",
      "metadata": {
        "id": "xA8ZlQErKryO"
      },
      "source": [
        "Expected Result:\n",
        "\n",
        "![alt text](https://drive.google.com/uc?id=1XufsfqZe7-XZLsb92SpATexy-QRZE0ow)"
      ]
    },
    {
      "cell_type": "markdown",
      "metadata": {
        "id": "pXb8LRDWKryQ"
      },
      "source": [
        "<h2>Soal 4: Reshaping Data 2</h2>"
      ]
    },
    {
      "cell_type": "code",
      "metadata": {
        "id": "LHe2XZyNKryS",
        "colab": {
          "base_uri": "https://localhost:8080/",
          "height": 142
        },
        "outputId": "bb18fc94-48fe-4e14-fbb7-8fbd82d873f8"
      },
      "source": [
        "import pandas as pd\n",
        "\n",
        "data = {\n",
        "    'Hari' : ['Sabtu', 'Minggu'],\n",
        "    'Kebun Binatang' : [271, 399],\n",
        "    'Dufan' : [501, 700],\n",
        "    'Disney' : [1000, 1001],\n",
        "    'Bali' : [900, 803]\n",
        "}\n",
        "df = pd.DataFrame(data).set_index('Hari')\n",
        "df"
      ],
      "execution_count": null,
      "outputs": [
        {
          "output_type": "execute_result",
          "data": {
            "text/html": [
              "<div>\n",
              "<style scoped>\n",
              "    .dataframe tbody tr th:only-of-type {\n",
              "        vertical-align: middle;\n",
              "    }\n",
              "\n",
              "    .dataframe tbody tr th {\n",
              "        vertical-align: top;\n",
              "    }\n",
              "\n",
              "    .dataframe thead th {\n",
              "        text-align: right;\n",
              "    }\n",
              "</style>\n",
              "<table border=\"1\" class=\"dataframe\">\n",
              "  <thead>\n",
              "    <tr style=\"text-align: right;\">\n",
              "      <th></th>\n",
              "      <th>Kebun Binatang</th>\n",
              "      <th>Dufan</th>\n",
              "      <th>Disney</th>\n",
              "      <th>Bali</th>\n",
              "    </tr>\n",
              "    <tr>\n",
              "      <th>Hari</th>\n",
              "      <th></th>\n",
              "      <th></th>\n",
              "      <th></th>\n",
              "      <th></th>\n",
              "    </tr>\n",
              "  </thead>\n",
              "  <tbody>\n",
              "    <tr>\n",
              "      <th>Sabtu</th>\n",
              "      <td>271</td>\n",
              "      <td>501</td>\n",
              "      <td>1000</td>\n",
              "      <td>900</td>\n",
              "    </tr>\n",
              "    <tr>\n",
              "      <th>Minggu</th>\n",
              "      <td>399</td>\n",
              "      <td>700</td>\n",
              "      <td>1001</td>\n",
              "      <td>803</td>\n",
              "    </tr>\n",
              "  </tbody>\n",
              "</table>\n",
              "</div>"
            ],
            "text/plain": [
              "        Kebun Binatang  Dufan  Disney  Bali\n",
              "Hari                                       \n",
              "Sabtu              271    501    1000   900\n",
              "Minggu             399    700    1001   803"
            ]
          },
          "metadata": {
            "tags": []
          },
          "execution_count": 31
        }
      ]
    },
    {
      "cell_type": "markdown",
      "metadata": {
        "id": "w87S4Xl_Kryg"
      },
      "source": [
        "diatas adalah data tentang jumlah pengunjung di berbagai tempat hiburan, ubahlah struktur data tersebut sehingga sesuai dengan hasil yang diharapkan."
      ]
    },
    {
      "cell_type": "code",
      "metadata": {
        "colab": {
          "base_uri": "https://localhost:8080/",
          "height": 299
        },
        "id": "m1fT1gadlU_Y",
        "outputId": "264f8bf8-2952-489f-c478-f7d3760da3a6"
      },
      "source": [
        "\n",
        "pd.melt(frame='DataFrame', id_vars='Hari', value_vars=['Kebun Binatang', 'Dufan', 'Disney', 'Bali'], var_name='Tempat Hiburan', value_name='Pengunjung')"
      ],
      "execution_count": null,
      "outputs": [
        {
          "output_type": "error",
          "ename": "AttributeError",
          "evalue": "ignored",
          "traceback": [
            "\u001b[0;31m---------------------------------------------------------------------------\u001b[0m",
            "\u001b[0;31mAttributeError\u001b[0m                            Traceback (most recent call last)",
            "\u001b[0;32m<ipython-input-52-7e26b10bc996>\u001b[0m in \u001b[0;36m<module>\u001b[0;34m()\u001b[0m\n\u001b[1;32m      1\u001b[0m \u001b[0;34m\u001b[0m\u001b[0m\n\u001b[0;32m----> 2\u001b[0;31m \u001b[0mpd\u001b[0m\u001b[0;34m.\u001b[0m\u001b[0mmelt\u001b[0m\u001b[0;34m(\u001b[0m\u001b[0mframe\u001b[0m\u001b[0;34m=\u001b[0m\u001b[0;34m'DataFrame'\u001b[0m\u001b[0;34m,\u001b[0m \u001b[0mid_vars\u001b[0m\u001b[0;34m=\u001b[0m\u001b[0;34m'Hari'\u001b[0m\u001b[0;34m,\u001b[0m \u001b[0mvalue_vars\u001b[0m\u001b[0;34m=\u001b[0m\u001b[0;34m[\u001b[0m\u001b[0;34m'Kebun Binatang'\u001b[0m\u001b[0;34m]\u001b[0m\u001b[0;34m,\u001b[0m \u001b[0mvar_name\u001b[0m\u001b[0;34m=\u001b[0m\u001b[0;34m'Tempat Hiburan'\u001b[0m\u001b[0;34m,\u001b[0m \u001b[0mvalue_name\u001b[0m\u001b[0;34m=\u001b[0m\u001b[0;34m'Pengunjung'\u001b[0m\u001b[0;34m)\u001b[0m\u001b[0;34m\u001b[0m\u001b[0;34m\u001b[0m\u001b[0m\n\u001b[0m",
            "\u001b[0;32m/usr/local/lib/python3.7/dist-packages/pandas/core/reshape/melt.py\u001b[0m in \u001b[0;36mmelt\u001b[0;34m(frame, id_vars, value_vars, var_name, value_name, col_level, ignore_index)\u001b[0m\n\u001b[1;32m     38\u001b[0m     \u001b[0;31m# If multiindex, gather names of columns on all level for checking presence\u001b[0m\u001b[0;34m\u001b[0m\u001b[0;34m\u001b[0m\u001b[0;34m\u001b[0m\u001b[0m\n\u001b[1;32m     39\u001b[0m     \u001b[0;31m# of `id_vars` and `value_vars`\u001b[0m\u001b[0;34m\u001b[0m\u001b[0;34m\u001b[0m\u001b[0;34m\u001b[0m\u001b[0m\n\u001b[0;32m---> 40\u001b[0;31m     \u001b[0;32mif\u001b[0m \u001b[0misinstance\u001b[0m\u001b[0;34m(\u001b[0m\u001b[0mframe\u001b[0m\u001b[0;34m.\u001b[0m\u001b[0mcolumns\u001b[0m\u001b[0;34m,\u001b[0m \u001b[0mMultiIndex\u001b[0m\u001b[0;34m)\u001b[0m\u001b[0;34m:\u001b[0m\u001b[0;34m\u001b[0m\u001b[0;34m\u001b[0m\u001b[0m\n\u001b[0m\u001b[1;32m     41\u001b[0m         \u001b[0mcols\u001b[0m \u001b[0;34m=\u001b[0m \u001b[0;34m[\u001b[0m\u001b[0mx\u001b[0m \u001b[0;32mfor\u001b[0m \u001b[0mc\u001b[0m \u001b[0;32min\u001b[0m \u001b[0mframe\u001b[0m\u001b[0;34m.\u001b[0m\u001b[0mcolumns\u001b[0m \u001b[0;32mfor\u001b[0m \u001b[0mx\u001b[0m \u001b[0;32min\u001b[0m \u001b[0mc\u001b[0m\u001b[0;34m]\u001b[0m\u001b[0;34m\u001b[0m\u001b[0;34m\u001b[0m\u001b[0m\n\u001b[1;32m     42\u001b[0m     \u001b[0;32melse\u001b[0m\u001b[0;34m:\u001b[0m\u001b[0;34m\u001b[0m\u001b[0;34m\u001b[0m\u001b[0m\n",
            "\u001b[0;31mAttributeError\u001b[0m: 'str' object has no attribute 'columns'"
          ]
        }
      ]
    },
    {
      "cell_type": "markdown",
      "metadata": {
        "id": "d7_5dDsRKryi"
      },
      "source": [
        "Expected Result:\n",
        "\n",
        "![alt text](https://drive.google.com/uc?id=159mIqcyfeD30EEcyZmmkovORa6cZDLtn)"
      ]
    },
    {
      "cell_type": "markdown",
      "metadata": {
        "id": "GGHgeYkEKryk"
      },
      "source": [
        "<h2>Soal 5: Pivoting and Aggregating</h2>"
      ]
    },
    {
      "cell_type": "code",
      "metadata": {
        "id": "iKMM155KKryn",
        "colab": {
          "base_uri": "https://localhost:8080/",
          "height": 266
        },
        "outputId": "2a7b9ea1-d02c-4ba4-a418-a3d67b54816d"
      },
      "source": [
        "import pandas as pd\n",
        "\n",
        "data = {\n",
        "    'Tipe Ujian' : ['UTS1', 'UAS1']*3,\n",
        "    'Mata Pelajaran' :['Statistika', 'Fisika', 'Fisika', 'Statistika', 'Fisika', 'Statistika'],\n",
        "    'Jumlah Peserta' : [14, 17, 12, 16, 14, 13]\n",
        "}\n",
        "df = pd.DataFrame(data).set_index('Tipe Ujian')\n",
        "df"
      ],
      "execution_count": null,
      "outputs": [
        {
          "output_type": "execute_result",
          "data": {
            "text/html": [
              "<div>\n",
              "<style scoped>\n",
              "    .dataframe tbody tr th:only-of-type {\n",
              "        vertical-align: middle;\n",
              "    }\n",
              "\n",
              "    .dataframe tbody tr th {\n",
              "        vertical-align: top;\n",
              "    }\n",
              "\n",
              "    .dataframe thead th {\n",
              "        text-align: right;\n",
              "    }\n",
              "</style>\n",
              "<table border=\"1\" class=\"dataframe\">\n",
              "  <thead>\n",
              "    <tr style=\"text-align: right;\">\n",
              "      <th></th>\n",
              "      <th>Mata Pelajaran</th>\n",
              "      <th>Jumlah Peserta</th>\n",
              "    </tr>\n",
              "    <tr>\n",
              "      <th>Tipe Ujian</th>\n",
              "      <th></th>\n",
              "      <th></th>\n",
              "    </tr>\n",
              "  </thead>\n",
              "  <tbody>\n",
              "    <tr>\n",
              "      <th>UTS1</th>\n",
              "      <td>Statistika</td>\n",
              "      <td>14</td>\n",
              "    </tr>\n",
              "    <tr>\n",
              "      <th>UAS1</th>\n",
              "      <td>Fisika</td>\n",
              "      <td>17</td>\n",
              "    </tr>\n",
              "    <tr>\n",
              "      <th>UTS1</th>\n",
              "      <td>Fisika</td>\n",
              "      <td>12</td>\n",
              "    </tr>\n",
              "    <tr>\n",
              "      <th>UAS1</th>\n",
              "      <td>Statistika</td>\n",
              "      <td>16</td>\n",
              "    </tr>\n",
              "    <tr>\n",
              "      <th>UTS1</th>\n",
              "      <td>Fisika</td>\n",
              "      <td>14</td>\n",
              "    </tr>\n",
              "    <tr>\n",
              "      <th>UAS1</th>\n",
              "      <td>Statistika</td>\n",
              "      <td>13</td>\n",
              "    </tr>\n",
              "  </tbody>\n",
              "</table>\n",
              "</div>"
            ],
            "text/plain": [
              "           Mata Pelajaran  Jumlah Peserta\n",
              "Tipe Ujian                               \n",
              "UTS1           Statistika              14\n",
              "UAS1               Fisika              17\n",
              "UTS1               Fisika              12\n",
              "UAS1           Statistika              16\n",
              "UTS1               Fisika              14\n",
              "UAS1           Statistika              13"
            ]
          },
          "metadata": {
            "tags": []
          },
          "execution_count": 56
        }
      ]
    },
    {
      "cell_type": "markdown",
      "metadata": {
        "id": "odnDYRM3Kryz"
      },
      "source": [
        "Perhatikan bahwa data jumlah peserta ujian untuk suatu tipe ujian dan mata pelajaran tertentu ada yang duplikat, ubahlah struktur data tersebut dan lakukan aggregasi berjenis jumlah sehingga sesuai dengan hasil yang di harapkan\n",
        "\n",
        "Expected Result:\n",
        "\n",
        "![alt text](https://drive.google.com/uc?id=1emoz7orYR-0mCHffvAgM8j-V1P6yVHf0)"
      ]
    },
    {
      "cell_type": "code",
      "metadata": {
        "id": "gLKJlUYgKry3",
        "colab": {
          "base_uri": "https://localhost:8080/",
          "height": 142
        },
        "outputId": "02302324-c989-456d-e0b5-b793f68c198a"
      },
      "source": [
        "#Code here\n",
        "df.pivot_table(index='Tipe Ujian', columns='Mata Pelajaran', values='Jumlah Peserta',aggfunc='sum')"
      ],
      "execution_count": null,
      "outputs": [
        {
          "output_type": "execute_result",
          "data": {
            "text/html": [
              "<div>\n",
              "<style scoped>\n",
              "    .dataframe tbody tr th:only-of-type {\n",
              "        vertical-align: middle;\n",
              "    }\n",
              "\n",
              "    .dataframe tbody tr th {\n",
              "        vertical-align: top;\n",
              "    }\n",
              "\n",
              "    .dataframe thead th {\n",
              "        text-align: right;\n",
              "    }\n",
              "</style>\n",
              "<table border=\"1\" class=\"dataframe\">\n",
              "  <thead>\n",
              "    <tr style=\"text-align: right;\">\n",
              "      <th>Mata Pelajaran</th>\n",
              "      <th>Fisika</th>\n",
              "      <th>Statistika</th>\n",
              "    </tr>\n",
              "    <tr>\n",
              "      <th>Tipe Ujian</th>\n",
              "      <th></th>\n",
              "      <th></th>\n",
              "    </tr>\n",
              "  </thead>\n",
              "  <tbody>\n",
              "    <tr>\n",
              "      <th>UAS1</th>\n",
              "      <td>17</td>\n",
              "      <td>29</td>\n",
              "    </tr>\n",
              "    <tr>\n",
              "      <th>UTS1</th>\n",
              "      <td>26</td>\n",
              "      <td>14</td>\n",
              "    </tr>\n",
              "  </tbody>\n",
              "</table>\n",
              "</div>"
            ],
            "text/plain": [
              "Mata Pelajaran  Fisika  Statistika\n",
              "Tipe Ujian                        \n",
              "UAS1                17          29\n",
              "UTS1                26          14"
            ]
          },
          "metadata": {
            "tags": []
          },
          "execution_count": 58
        }
      ]
    }
  ]
}